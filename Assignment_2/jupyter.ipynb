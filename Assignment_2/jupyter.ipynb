{
  "cells": [
    {
      "cell_type": "code",
      "source": [
        "!tar -xvzf /20news-bydate-matlab.tgz"
      ],
      "metadata": {
        "colab": {
          "base_uri": "https://localhost:8080/"
        },
        "id": "0WrXmZRI6AaK",
        "outputId": "06b0b32b-cc8e-40aa-f74e-4f33d7ead39a"
      },
      "id": "0WrXmZRI6AaK",
      "execution_count": 3,
      "outputs": [
        {
          "output_type": "stream",
          "name": "stdout",
          "text": [
            "20news-bydate/matlab/\n",
            "20news-bydate/matlab/train.data\n",
            "20news-bydate/matlab/train.label\n",
            "20news-bydate/matlab/train.map\n",
            "20news-bydate/matlab/test.data\n",
            "20news-bydate/matlab/test.label\n",
            "20news-bydate/matlab/test.map\n"
          ]
        }
      ]
    },
    {
      "cell_type": "code",
      "source": [
        "import numpy as np\n",
        "import pandas as pd\n",
        "from sklearn.naive_bayes import BernoulliNB\n",
        "import math\n",
        "from sklearn.discriminant_analysis import LinearDiscriminantAnalysis\n",
        "from sklearn.naive_bayes import MultinomialNB\n",
        "from sklearn.linear_model import LinearRegression\n",
        "from sklearn.metrics import accuracy_score\n",
        "\n",
        "\n",
        "train_data_x = pd.read_csv(\n",
        "    \"20news-bydate/matlab/train.data\", sep=\" \", names=[\"doc_id\", \"word_id\", \"freq\"],\n",
        ")\n",
        "# print(train_data_x.head())\n",
        "train_data_y = pd.read_csv(\"20news-bydate/matlab/train.label\", names=[\"labels\"],)\n",
        "# print(train_data_y.head())\n",
        "\n",
        "test_data_x = pd.read_csv(\n",
        "    \"20news-bydate/matlab/test.data\", sep=\" \", names=[\"doc_id\", \"word_id\", \"freq\"],\n",
        ")\n",
        "# print(test_data_x.head())\n",
        "test_data_y = pd.read_csv(\"20news-bydate/matlab/test.label\", names=[\"labels\"],)\n",
        "# print(test_data_y.head())\n",
        "\n",
        "word_cnt = train_data_x[[\"word_id\", \"freq\"]].groupby([\"word_id\"], as_index=False).sum()\n",
        "vocab = list(word_cnt.loc[word_cnt[\"freq\"] > 1000][\"word_id\"])\n",
        "\n",
        "train_data_x_processed = train_data_x.loc[\n",
        "    train_data_x[\"word_id\"].isin(vocab)\n",
        "].reset_index(drop=True)\n",
        "train_data_processed = train_data_x_processed.join(\n",
        "    train_data_y, how=\"inner\", on=\"doc_id\"\n",
        ")\n",
        "test_data_x_processed = test_data_x.loc[test_data_x[\"word_id\"].isin(vocab)].reset_index(\n",
        "    drop=True\n",
        ")\n",
        "test_data_processed = test_data_x_processed.join(test_data_y, how=\"inner\", on=\"doc_id\")\n",
        "\n",
        "\n",
        "# Q1\n",
        "\n",
        "def get_multinomial_features(data, vocab):\n",
        "    X = []\n",
        "    Y = []\n",
        "    for index, doc_group in data.groupby([\"doc_id\"]).agg(list).iterrows():\n",
        "        x = [0] * len(vocab)\n",
        "        Y.append(list(doc_group[\"labels\"])[0])\n",
        "        doc_words = list(doc_group.word_id)\n",
        "        for word_ind in range(len(vocab)):\n",
        "            if vocab[word_ind] in doc_words:\n",
        "                x[word_ind] = doc_group.freq[doc_group.word_id.index(vocab[word_ind])]\n",
        "        X.append(x)\n",
        "    return np.array(X), np.array(Y)\n",
        "\n",
        "\n",
        "X_train, Y_train = get_multinomial_features(train_data_processed, vocab)\n",
        "X_test, Y_test = get_multinomial_features(test_data_processed, vocab)\n",
        "\n",
        "clf = MultinomialNB()\n",
        "clf.fit(X_train, Y_train)\n",
        "print(clf.predict(X_test))\n",
        "print(clf.score(X_test, Y_test) * 100)"
      ],
      "metadata": {
        "colab": {
          "base_uri": "https://localhost:8080/"
        },
        "id": "HVN5n4a_4d3z",
        "outputId": "9944cf46-6ce0-4540-825c-972ead4f014b"
      },
      "id": "HVN5n4a_4d3z",
      "execution_count": 6,
      "outputs": [
        {
          "output_type": "stream",
          "name": "stdout",
          "text": [
            "[ 1 16  1 ... 19  1 20]\n",
            "39.02146380482602\n"
          ]
        }
      ]
    },
    {
      "cell_type": "code",
      "source": [],
      "metadata": {
        "id": "IW0ydhYg7dAK"
      },
      "id": "IW0ydhYg7dAK",
      "execution_count": null,
      "outputs": []
    }
  ],
  "metadata": {
    "kernelspec": {
      "display_name": "Python 3",
      "name": "python3"
    },
    "language_info": {
      "name": "python"
    },
    "required_libs": [],
    "colab": {
      "provenance": []
    }
  },
  "nbformat": 4,
  "nbformat_minor": 5
}